{
 "cells": [
  {
   "cell_type": "code",
   "execution_count": 1,
   "metadata": {},
   "outputs": [],
   "source": [
    "import tensorflow as tf\n",
    "import numpy as np\n",
    "from tensorflow import keras\n",
    "from PIL import Image\n",
    "from tensorflow.keras import Sequential, layers\n",
    "from tensorflow.keras.layers import Dense\n",
    "\n",
    "def load_dataset():\n",
    "    (Xtrain, ytrain), (Xtest, ytest) = keras.datasets.fashion_mnist.load_data()\n",
    "    train_db = tf.data.Dataset.from_tensor_slices(Xtrain)\n",
    "    train_db = train_db.shuffle(1000).map(preprocess).batch(512)\n",
    "    test_db = tf.data.Dataset.from_tensor_slices(Xtest)\n",
    "    test_db = test_db.map(preprocess).batch(512)\n",
    "    return train_db, test_db\n",
    "    \n",
    "def preprocess(x):\n",
    "    x = tf.cast(x, dtype=tf.float32) / 255.\n",
    "    return x\n",
    "   \n",
    "def save_images(imgs, name):\n",
    "    # 创建 280x280 大小图片阵列\n",
    "    new_im = Image.new('L', (280, 280))\n",
    "\n",
    "    index = 0\n",
    "    # 10 行图片阵列\n",
    "    for i in range(0, 280, 28):\n",
    "        # 10 列图片阵列\n",
    "        for j in range(0, 280, 28):\n",
    "            im = imgs[index]\n",
    "            im = Image.fromarray(im, mode='L')\n",
    "            # 写入对应位置\n",
    "            new_im.paste(im, (i, j))\n",
    "            index += 1\n",
    "    # 保存图片阵列\n",
    "    new_im.save(name)"
   ]
  },
  {
   "cell_type": "code",
   "execution_count": 5,
   "metadata": {},
   "outputs": [],
   "source": [
    "class AutoEncoder(keras.Model):\n",
    "    def __init__(self):\n",
    "        super(AutoEncoder, self).__init__()\n",
    "        self.Encoder = Sequential()\n",
    "        self.Encoder.add(Dense(256, activation=\"relu\", input_shape=(784,)))\n",
    "        self.Encoder.add(Dense(128, activation=\"relu\"))\n",
    "        self.Encoder.add(Dense(20))\n",
    "        \n",
    "        self.Decoder = Sequential()\n",
    "        self.Decoder.add(Dense(128, activation=\"relu\", input_shape=(20,)))\n",
    "        self.Decoder.add(Dense(128, activation=\"relu\"))\n",
    "        self.Decoder.add(Dense(784))\n",
    "    \n",
    "    def forward_propagation(self, input_data):\n",
    "        vector = self.Encoder(input_data)\n",
    "        y = self.Decoder(vector)\n",
    "        return y\n",
    "    \n",
    "    def call(self, input_data):\n",
    "        vector = self.Encoder(input_data)\n",
    "        y = self.Decoder(vector)\n",
    "        return y\n",
    "    \n",
    "    \n",
    "def build_model():\n",
    "    # 创建网络对象\n",
    "    model = AutoEncoder()\n",
    "    # 指定输入大小\n",
    "    model.build(input_shape = (512, 784))\n",
    "    # 打印网络信息\n",
    "    model.summary()\n",
    "    return model\n",
    "\n",
    "def train(train_db, optimizer, model, epoch):\n",
    "    for step, x in enumerate(train_db):\n",
    "        \"\"\"\n",
    "        enumerate函数输出（数据下标， 数据）\n",
    "        \"\"\"\n",
    "        x = tf.reshape(x, [-1, 784])\n",
    "        with tf.GradientTape() as tape:\n",
    "            X_ = model(x)\n",
    "            loss = tf.losses.binary_crossentropy(x, X_, from_logits=True)\n",
    "            \"\"\"\n",
    "            from_logits参数表示是否把输出转化为概率\n",
    "            \"\"\"\n",
    "            loss = tf.reduce_mean(loss)\n",
    "        \n",
    "        grads = tape.gradient(loss, model.trainable_variables)\n",
    "        optimizer.apply_gradients(zip(grads, model.trainable_variables))    \n",
    "        \n",
    "        if step % 100 == 0:\n",
    "            # 间隔性打印训练误差\n",
    "            print(epoch, step, float(loss))\n",
    "            \n",
    "    return model"
   ]
  },
  {
   "cell_type": "code",
   "execution_count": 6,
   "metadata": {},
   "outputs": [],
   "source": [
    "def evaluation(test_db, model, epoch):\n",
    "    # evaluation\n",
    "    # 重建图片，从测试集采样一批图片\n",
    "    x = next(iter(test_db))\n",
    "    # 打平并送入自编码器\n",
    "    logits = model(tf.reshape(x, [-1, 784]))\n",
    "    # 将输出转换为像素值，使用sigmoid函数\n",
    "    x_hat = tf.sigmoid(logits)\n",
    "    # 恢复为 28x28,[b, 784] => [b, 28, 28]\n",
    "    x_hat = tf.reshape(x_hat, [-1, 28, 28])\n",
    "\n",
    "    # 输入的前50张+重建的前50张图片合并， [b, 28, 28] => [2b, 28, 28]\n",
    "    x_concat = tf.concat([x[:50], x_hat[:50]], axis=0)\n",
    "    # 恢复为0~255范围\n",
    "    x_concat = x_concat.numpy() * 255.\n",
    "    # 转换为整型\n",
    "    x_concat = x_concat.astype(np.uint8)\n",
    "    # 保存图片\n",
    "    save_images(x_concat, './ae_images/rec_epoch_%d.png' % epoch)\n",
    "    \n",
    "def main():\n",
    "    lr = 1e-3\n",
    "    train_db, test_db = load_dataset()\n",
    "    optimizer = tf.optimizers.Adam(lr=lr)\n",
    "    model = build_model()\n",
    "    for epoch in range(20):\n",
    "        model = train(train_db, optimizer, model, epoch)\n",
    "        evaluation(test_db, model, epoch)"
   ]
  },
  {
   "cell_type": "code",
   "execution_count": null,
   "metadata": {},
   "outputs": [
    {
     "name": "stdout",
     "output_type": "stream",
     "text": [
      "Model: \"auto_encoder_1\"\n",
      "_________________________________________________________________\n",
      "Layer (type)                 Output Shape              Param #   \n",
      "=================================================================\n",
      "sequential_2 (Sequential)    (None, 20)                236436    \n",
      "_________________________________________________________________\n",
      "sequential_3 (Sequential)    (None, 784)               120336    \n",
      "=================================================================\n",
      "Total params: 356,772\n",
      "Trainable params: 356,772\n",
      "Non-trainable params: 0\n",
      "_________________________________________________________________\n",
      "0 0 0.6930687427520752\n"
     ]
    }
   ],
   "source": [
    "if __name__ == '__main__':\n",
    "    main()"
   ]
  },
  {
   "cell_type": "code",
   "execution_count": null,
   "metadata": {},
   "outputs": [],
   "source": []
  }
 ],
 "metadata": {
  "kernelspec": {
   "display_name": "Python 3",
   "language": "python",
   "name": "python3"
  },
  "language_info": {
   "codemirror_mode": {
    "name": "ipython",
    "version": 3
   },
   "file_extension": ".py",
   "mimetype": "text/x-python",
   "name": "python",
   "nbconvert_exporter": "python",
   "pygments_lexer": "ipython3",
   "version": "3.7.6"
  },
  "pycharm": {
   "stem_cell": {
    "cell_type": "raw",
    "metadata": {
     "collapsed": false
    },
    "source": []
   }
  }
 },
 "nbformat": 4,
 "nbformat_minor": 4
}
